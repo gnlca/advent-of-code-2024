{
 "cells": [
  {
   "cell_type": "code",
   "execution_count": 136,
   "metadata": {},
   "outputs": [],
   "source": [
    "with open(\"./input.txt\", \"r\") as f:\n",
    "    lines = f.readlines()\n",
    "\n",
    "lines = [line.strip(\"\\n\") for line in lines]"
   ]
  },
  {
   "cell_type": "code",
   "execution_count": 137,
   "metadata": {},
   "outputs": [
    {
     "data": {
      "text/plain": [
       "2000468"
      ]
     },
     "execution_count": 137,
     "metadata": {},
     "output_type": "execute_result"
    }
   ],
   "source": [
    "# PART 1\n",
    "v1, v2 = map(sorted, zip(*map(lambda line: map(int, line.split()), lines)))\n",
    "res = sum(abs(int(x) - int(y)) for x, y in zip(v1, v2))\n",
    "res"
   ]
  },
  {
   "cell_type": "code",
   "execution_count": null,
   "metadata": {},
   "outputs": [
    {
     "name": "stdout",
     "output_type": "stream",
     "text": [
      "18567089\n"
     ]
    }
   ],
   "source": [
    "# PART 2\n",
    "m2 = {}\n",
    "for el in v2:\n",
    "    m2[el] = m2.get(el, 0) + 1\n",
    "\n",
    "res2 = sum(m2.get(el, 0) * el for el in v1)\n",
    "print(res2)"
   ]
  }
 ],
 "metadata": {
  "kernelspec": {
   "display_name": ".venv",
   "language": "python",
   "name": "python3"
  },
  "language_info": {
   "codemirror_mode": {
    "name": "ipython",
    "version": 3
   },
   "file_extension": ".py",
   "mimetype": "text/x-python",
   "name": "python",
   "nbconvert_exporter": "python",
   "pygments_lexer": "ipython3",
   "version": "3.12.2"
  }
 },
 "nbformat": 4,
 "nbformat_minor": 2
}
